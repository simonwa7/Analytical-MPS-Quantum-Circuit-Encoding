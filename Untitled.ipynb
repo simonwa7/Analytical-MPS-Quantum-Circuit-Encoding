{
 "cells": [
  {
   "cell_type": "code",
   "execution_count": 1,
   "id": "7ee80a50",
   "metadata": {},
   "outputs": [],
   "source": [
    "import numpy as np"
   ]
  },
  {
   "cell_type": "code",
   "execution_count": 2,
   "id": "ab30d311",
   "metadata": {},
   "outputs": [
    {
     "name": "stdout",
     "output_type": "stream",
     "text": [
      "[1.+0.j 0.+0.j 0.+0.j 0.+0.j 0.+0.j 0.+0.j 0.+0.j 0.+0.j 0.+0.j 0.+0.j\n",
      " 0.+0.j 0.+0.j 0.+0.j 0.+0.j 0.+0.j 0.+0.j 0.+0.j 0.+0.j 0.+0.j 0.+0.j\n",
      " 0.+0.j 0.+0.j 0.+0.j 0.+0.j 0.+0.j 0.+0.j 0.+0.j 0.+0.j 0.+0.j 0.+0.j\n",
      " 0.+0.j 0.+0.j 0.+0.j 0.+0.j 0.+0.j 0.+0.j 0.+0.j 0.+0.j 0.+0.j 0.+0.j\n",
      " 0.+0.j 0.+0.j 0.+0.j 0.+0.j 0.+0.j 0.+0.j 0.+0.j 0.+0.j 0.+0.j 0.+0.j\n",
      " 0.+0.j 0.+0.j 0.+0.j 0.+0.j 0.+0.j 0.+0.j 0.+0.j 0.+0.j 0.+0.j 0.+0.j\n",
      " 0.+0.j 0.+0.j 0.+0.j 0.+0.j]\n"
     ]
    }
   ],
   "source": [
    "number_of_sites = 6\n",
    "all_zeros = np.zeros(2**number_of_sites, dtype=\"complex128\")\n",
    "all_zeros[0] = 1\n",
    "# all_zeros *= np.exp(1.5j)\n",
    "mps = [None] * number_of_sites\n",
    "print(all_zeros)"
   ]
  },
  {
   "cell_type": "code",
   "execution_count": 3,
   "id": "e536ffd4",
   "metadata": {},
   "outputs": [],
   "source": [
    "i = 0\n",
    "wavefunction = all_zeros.reshape(2, 2**(number_of_sites-(i+1)))\n",
    "# u, s, vd = np.linalg.svd(wavefunction)\n",
    "q, r = np.linalg.qr(wavefunction)\n",
    "mps[i] = q.reshape(1, 2, 2)\n",
    "# s = np.c_[ [s[0]], np.zeros((1, 2**(number_of_sites-(i+1))- 1)) ]\n",
    "# wavefunction = (s@vd).reshape(2**(number_of_sites-(i+1)))\n",
    "# print(np.diag(s))\n",
    "# vd.shape\n",
    "# 2**6"
   ]
  },
  {
   "cell_type": "code",
   "execution_count": 4,
   "id": "7fe48452",
   "metadata": {},
   "outputs": [
    {
     "data": {
      "text/plain": [
       "(2, 32)"
      ]
     },
     "execution_count": 4,
     "metadata": {},
     "output_type": "execute_result"
    }
   ],
   "source": [
    "r.shape"
   ]
  },
  {
   "cell_type": "code",
   "execution_count": 5,
   "id": "c6449def",
   "metadata": {},
   "outputs": [
    {
     "data": {
      "text/plain": [
       "array([[1.+0.j, 0.+0.j, 0.+0.j, 0.+0.j],\n",
       "       [0.+0.j, 1.+0.j, 0.+0.j, 0.+0.j],\n",
       "       [0.+0.j, 0.+0.j, 1.+0.j, 0.+0.j],\n",
       "       [0.+0.j, 0.+0.j, 0.+0.j, 1.+0.j]])"
      ]
     },
     "execution_count": 5,
     "metadata": {},
     "output_type": "execute_result"
    }
   ],
   "source": [
    "i = 1\n",
    "r = r.reshape(4, 16)\n",
    "q, r = np.linalg.qr(r)\n",
    "mps[i] = q.reshape(2, 2, 4)\n",
    "# s = np.c_[ [s[0]], np.zeros((1, 2**(number_of_sites-(i+1))- 1)) ]\n",
    "# wavefunction = (s@vd).reshape(2**(number_of_sites-(i+1)))\n",
    "q"
   ]
  },
  {
   "cell_type": "code",
   "execution_count": 6,
   "id": "b88f506e",
   "metadata": {},
   "outputs": [],
   "source": [
    "i = 2\n",
    "r = r.reshape(8, 8)\n",
    "q, r = np.linalg.qr(r)\n",
    "mps[i] = q.reshape(4, 2, 8)\n",
    "# s = np.c_[ [s[0]], np.zeros((1, 2**(number_of_sites-(i+1))- 1)) ]\n",
    "# wavefunction = (s@vd).reshape(2**(number_of_sites-(i+1)))"
   ]
  },
  {
   "cell_type": "code",
   "execution_count": 7,
   "id": "91910520",
   "metadata": {},
   "outputs": [],
   "source": [
    "i = 3\n",
    "r = r.reshape(16, 4)\n",
    "q, r = np.linalg.qr(r)\n",
    "mps[i] = q.reshape(8, 2, 4)\n",
    "# u, s, vd = np.linalg.svd(wavefunction)\n",
    "# mps[i] = u.reshape(1, 2, 2)\n",
    "# s = np.c_[ [s[0]], np.zeros((1, 2**(number_of_sites-(i+1))- 1)) ]\n",
    "# wavefunction = (s@vd).reshape(2**(number_of_sites-(i+1)))"
   ]
  },
  {
   "cell_type": "code",
   "execution_count": 8,
   "id": "c0545eef",
   "metadata": {},
   "outputs": [],
   "source": [
    "i = 4\n",
    "r = r.reshape(8, 2)\n",
    "q, r = np.linalg.qr(r)\n",
    "mps[i] = q.reshape(4, 2, 2)\n",
    "# wavefunction = wavefunction.reshape(2, 2**(number_of_sites-(i+1)))\n",
    "# u, s, vd = np.linalg.svd(wavefunction)\n",
    "# mps[i] = u.reshape(1, 2, 2)\n",
    "# s = np.c_[ [s[0]], np.zeros((1, 2**(number_of_sites-(i+1))- 1)) ]\n",
    "# wavefunction = (s@vd).reshape(2**(number_of_sites-(i+1)))"
   ]
  },
  {
   "cell_type": "code",
   "execution_count": 9,
   "id": "ed15817c",
   "metadata": {},
   "outputs": [],
   "source": [
    "i = 5\n",
    "mps[i] = r.reshape(2, 2, 1)"
   ]
  },
  {
   "cell_type": "code",
   "execution_count": 10,
   "id": "b8de7db0",
   "metadata": {},
   "outputs": [
    {
     "data": {
      "text/plain": [
       "array([[[1.+0.j, 0.+0.j],\n",
       "        [0.+0.j, 1.+0.j]]])"
      ]
     },
     "execution_count": 10,
     "metadata": {},
     "output_type": "execute_result"
    }
   ],
   "source": [
    "mps[0]"
   ]
  },
  {
   "cell_type": "code",
   "execution_count": 11,
   "id": "1b49be64",
   "metadata": {},
   "outputs": [
    {
     "data": {
      "text/plain": [
       "array([[[1.+0.j, 0.+0.j, 0.+0.j, 0.+0.j],\n",
       "        [0.+0.j, 1.+0.j, 0.+0.j, 0.+0.j]],\n",
       "\n",
       "       [[0.+0.j, 0.+0.j, 1.+0.j, 0.+0.j],\n",
       "        [0.+0.j, 0.+0.j, 0.+0.j, 1.+0.j]]])"
      ]
     },
     "execution_count": 11,
     "metadata": {},
     "output_type": "execute_result"
    }
   ],
   "source": [
    "mps[1]"
   ]
  },
  {
   "cell_type": "code",
   "execution_count": 69,
   "id": "e237e47c",
   "metadata": {},
   "outputs": [
    {
     "data": {
      "text/plain": [
       "array([[[1.+0.j, 0.+0.j, 0.+0.j, 0.+0.j, 0.+0.j, 0.+0.j, 0.+0.j, 0.+0.j],\n",
       "        [0.+0.j, 1.+0.j, 0.+0.j, 0.+0.j, 0.+0.j, 0.+0.j, 0.+0.j, 0.+0.j]],\n",
       "\n",
       "       [[0.+0.j, 0.+0.j, 1.+0.j, 0.+0.j, 0.+0.j, 0.+0.j, 0.+0.j, 0.+0.j],\n",
       "        [0.+0.j, 0.+0.j, 0.+0.j, 1.+0.j, 0.+0.j, 0.+0.j, 0.+0.j, 0.+0.j]],\n",
       "\n",
       "       [[0.+0.j, 0.+0.j, 0.+0.j, 0.+0.j, 1.+0.j, 0.+0.j, 0.+0.j, 0.+0.j],\n",
       "        [0.+0.j, 0.+0.j, 0.+0.j, 0.+0.j, 0.+0.j, 1.+0.j, 0.+0.j, 0.+0.j]],\n",
       "\n",
       "       [[0.+0.j, 0.+0.j, 0.+0.j, 0.+0.j, 0.+0.j, 0.+0.j, 1.+0.j, 0.+0.j],\n",
       "        [0.+0.j, 0.+0.j, 0.+0.j, 0.+0.j, 0.+0.j, 0.+0.j, 0.+0.j, 1.+0.j]]])"
      ]
     },
     "execution_count": 69,
     "metadata": {},
     "output_type": "execute_result"
    }
   ],
   "source": [
    "mps[2]"
   ]
  },
  {
   "cell_type": "code",
   "execution_count": 70,
   "id": "825223e1",
   "metadata": {},
   "outputs": [
    {
     "data": {
      "text/plain": [
       "array([[[1.+0.j, 0.+0.j, 0.+0.j, 0.+0.j],\n",
       "        [0.+0.j, 1.+0.j, 0.+0.j, 0.+0.j]],\n",
       "\n",
       "       [[0.+0.j, 0.+0.j, 1.+0.j, 0.+0.j],\n",
       "        [0.+0.j, 0.+0.j, 0.+0.j, 1.+0.j]],\n",
       "\n",
       "       [[0.+0.j, 0.+0.j, 0.+0.j, 0.+0.j],\n",
       "        [0.+0.j, 0.+0.j, 0.+0.j, 0.+0.j]],\n",
       "\n",
       "       [[0.+0.j, 0.+0.j, 0.+0.j, 0.+0.j],\n",
       "        [0.+0.j, 0.+0.j, 0.+0.j, 0.+0.j]],\n",
       "\n",
       "       [[0.+0.j, 0.+0.j, 0.+0.j, 0.+0.j],\n",
       "        [0.+0.j, 0.+0.j, 0.+0.j, 0.+0.j]],\n",
       "\n",
       "       [[0.+0.j, 0.+0.j, 0.+0.j, 0.+0.j],\n",
       "        [0.+0.j, 0.+0.j, 0.+0.j, 0.+0.j]],\n",
       "\n",
       "       [[0.+0.j, 0.+0.j, 0.+0.j, 0.+0.j],\n",
       "        [0.+0.j, 0.+0.j, 0.+0.j, 0.+0.j]],\n",
       "\n",
       "       [[0.+0.j, 0.+0.j, 0.+0.j, 0.+0.j],\n",
       "        [0.+0.j, 0.+0.j, 0.+0.j, 0.+0.j]]])"
      ]
     },
     "execution_count": 70,
     "metadata": {},
     "output_type": "execute_result"
    }
   ],
   "source": [
    "mps[3]"
   ]
  },
  {
   "cell_type": "code",
   "execution_count": 71,
   "id": "a178abcf",
   "metadata": {},
   "outputs": [
    {
     "data": {
      "text/plain": [
       "array([[[1.+0.j, 0.+0.j],\n",
       "        [0.+0.j, 1.+0.j]],\n",
       "\n",
       "       [[0.+0.j, 0.+0.j],\n",
       "        [0.+0.j, 0.+0.j]],\n",
       "\n",
       "       [[0.+0.j, 0.+0.j],\n",
       "        [0.+0.j, 0.+0.j]],\n",
       "\n",
       "       [[0.+0.j, 0.+0.j],\n",
       "        [0.+0.j, 0.+0.j]]])"
      ]
     },
     "execution_count": 71,
     "metadata": {},
     "output_type": "execute_result"
    }
   ],
   "source": [
    "mps[4]"
   ]
  },
  {
   "cell_type": "code",
   "execution_count": 72,
   "id": "6c5765b9",
   "metadata": {},
   "outputs": [
    {
     "data": {
      "text/plain": [
       "array([[[1.+0.j],\n",
       "        [0.+0.j]],\n",
       "\n",
       "       [[0.+0.j],\n",
       "        [0.+0.j]]])"
      ]
     },
     "execution_count": 72,
     "metadata": {},
     "output_type": "execute_result"
    }
   ],
   "source": [
    "mps[5]"
   ]
  },
  {
   "cell_type": "code",
   "execution_count": 73,
   "id": "8976b866",
   "metadata": {},
   "outputs": [],
   "source": [
    "from src.mps.mps import get_mps"
   ]
  },
  {
   "cell_type": "code",
   "execution_count": 38,
   "id": "24ed554c",
   "metadata": {},
   "outputs": [
    {
     "data": {
      "text/plain": [
       "array([[[0.+0.j, 0.+0.j, 0.+0.j, 1.+0.j],\n",
       "        [1.+0.j, 0.+0.j, 0.+0.j, 0.+0.j]],\n",
       "\n",
       "       [[0.+0.j, 1.+0.j, 0.+0.j, 0.+0.j],\n",
       "        [0.+0.j, 0.+0.j, 1.+0.j, 0.+0.j]]])"
      ]
     },
     "execution_count": 38,
     "metadata": {},
     "output_type": "execute_result"
    }
   ],
   "source": [
    "mps_2 = get_mps(all_zeros)\n",
    "mps_2[1]"
   ]
  },
  {
   "cell_type": "code",
   "execution_count": 41,
   "id": "c2e2239a",
   "metadata": {},
   "outputs": [
    {
     "data": {
      "text/plain": [
       "array([1.+0.j, 0.+0.j, 0.+0.j, 0.+0.j, 0.+0.j, 0.+0.j, 0.+0.j, 0.+0.j,\n",
       "       0.+0.j, 0.+0.j, 0.+0.j, 0.+0.j, 0.+0.j, 0.+0.j, 0.+0.j, 0.+0.j,\n",
       "       0.+0.j, 0.+0.j, 0.+0.j, 0.+0.j, 0.+0.j, 0.+0.j, 0.+0.j, 0.+0.j,\n",
       "       0.+0.j, 0.+0.j, 0.+0.j, 0.+0.j, 0.+0.j, 0.+0.j, 0.+0.j, 0.+0.j,\n",
       "       0.+0.j, 0.+0.j, 0.+0.j, 0.+0.j, 0.+0.j, 0.+0.j, 0.+0.j, 0.+0.j,\n",
       "       0.+0.j, 0.+0.j, 0.+0.j, 0.+0.j, 0.+0.j, 0.+0.j, 0.+0.j, 0.+0.j,\n",
       "       0.+0.j, 0.+0.j, 0.+0.j, 0.+0.j, 0.+0.j, 0.+0.j, 0.+0.j, 0.+0.j,\n",
       "       0.+0.j, 0.+0.j, 0.+0.j, 0.+0.j, 0.+0.j, 0.+0.j, 0.+0.j, 0.+0.j])"
      ]
     },
     "execution_count": 41,
     "metadata": {},
     "output_type": "execute_result"
    }
   ],
   "source": [
    "from src.mps.mps import get_wavefunction\n",
    "get_wavefunction(mps_2)"
   ]
  },
  {
   "cell_type": "code",
   "execution_count": 46,
   "id": "b13b772a",
   "metadata": {},
   "outputs": [
    {
     "data": {
      "text/plain": [
       "array([1.+0.j, 0.+0.j, 0.+0.j, 0.+0.j, 0.+0.j, 0.+0.j, 0.+0.j, 0.+0.j,\n",
       "       0.+0.j, 0.+0.j, 0.+0.j, 0.+0.j, 0.+0.j, 0.+0.j, 0.+0.j, 0.+0.j,\n",
       "       0.+0.j, 0.+0.j, 0.+0.j, 0.+0.j, 0.+0.j, 0.+0.j, 0.+0.j, 0.+0.j,\n",
       "       0.+0.j, 0.+0.j, 0.+0.j, 0.+0.j, 0.+0.j, 0.+0.j, 0.+0.j, 0.+0.j,\n",
       "       0.+0.j, 0.+0.j, 0.+0.j, 0.+0.j, 0.+0.j, 0.+0.j, 0.+0.j, 0.+0.j,\n",
       "       0.+0.j, 0.+0.j, 0.+0.j, 0.+0.j, 0.+0.j, 0.+0.j, 0.+0.j, 0.+0.j,\n",
       "       0.+0.j, 0.+0.j, 0.+0.j, 0.+0.j, 0.+0.j, 0.+0.j, 0.+0.j, 0.+0.j,\n",
       "       0.+0.j, 0.+0.j, 0.+0.j, 0.+0.j, 0.+0.j, 0.+0.j, 0.+0.j, 0.+0.j])"
      ]
     },
     "execution_count": 46,
     "metadata": {},
     "output_type": "execute_result"
    }
   ],
   "source": [
    "get_wavefunction(mps)"
   ]
  },
  {
   "cell_type": "code",
   "execution_count": 74,
   "id": "3d32e341",
   "metadata": {},
   "outputs": [
    {
     "data": {
      "text/plain": [
       "[(1, 2, 2), (2, 2, 4), (4, 2, 8), (8, 2, 4), (4, 2, 2), (2, 2, 1)]"
      ]
     },
     "execution_count": 74,
     "metadata": {},
     "output_type": "execute_result"
    }
   ],
   "source": [
    "[site.shape for site in mps]"
   ]
  },
  {
   "cell_type": "code",
   "execution_count": 44,
   "id": "c66e633d",
   "metadata": {},
   "outputs": [
    {
     "data": {
      "text/plain": [
       "[(1, 2, 2), (2, 2, 4), (4, 2, 8), (8, 2, 4), (4, 2, 2), (2, 2, 1)]"
      ]
     },
     "execution_count": 44,
     "metadata": {},
     "output_type": "execute_result"
    }
   ],
   "source": [
    "[site.shape for site in mps_2]"
   ]
  },
  {
   "cell_type": "code",
   "execution_count": 57,
   "id": "e5c44071",
   "metadata": {},
   "outputs": [
    {
     "ename": "AttributeError",
     "evalue": "'NoneType' object has no attribute 'shape'",
     "output_type": "error",
     "traceback": [
      "\u001b[0;31m---------------------------------------------------------------------------\u001b[0m",
      "\u001b[0;31mAttributeError\u001b[0m                            Traceback (most recent call last)",
      "\u001b[1;32m/Users/williamsimon/Desktop/Research/DMRG/Analytical-MPS-Quantum-Circuit-Encoding/Untitled.ipynb Cell 22\u001b[0m in \u001b[0;36m<cell line: 1>\u001b[0;34m()\u001b[0m\n\u001b[0;32m----> <a href='vscode-notebook-cell:/Users/williamsimon/Desktop/Research/DMRG/Analytical-MPS-Quantum-Circuit-Encoding/Untitled.ipynb#X25sZmlsZQ%3D%3D?line=0'>1</a>\u001b[0m mps[\u001b[39m1\u001b[39;49m]\u001b[39m.\u001b[39;49mshape\n",
      "\u001b[0;31mAttributeError\u001b[0m: 'NoneType' object has no attribute 'shape'"
     ]
    }
   ],
   "source": [
    "mps[1].shape"
   ]
  },
  {
   "cell_type": "code",
   "execution_count": 173,
   "id": "00ba3279",
   "metadata": {},
   "outputs": [
    {
     "data": {
      "text/plain": [
       "(1, 2, 2)"
      ]
     },
     "execution_count": 173,
     "metadata": {},
     "output_type": "execute_result"
    }
   ],
   "source": [
    "mps[2].shape"
   ]
  },
  {
   "cell_type": "code",
   "execution_count": 174,
   "id": "63c7beaf",
   "metadata": {},
   "outputs": [
    {
     "data": {
      "text/plain": [
       "(1, 2, 2)"
      ]
     },
     "execution_count": 174,
     "metadata": {},
     "output_type": "execute_result"
    }
   ],
   "source": [
    "mps[3].shape"
   ]
  },
  {
   "cell_type": "code",
   "execution_count": 175,
   "id": "6aebcd36",
   "metadata": {},
   "outputs": [
    {
     "data": {
      "text/plain": [
       "array([[[1.+0.j, 0.+0.j],\n",
       "        [0.+0.j, 1.+0.j]]])"
      ]
     },
     "execution_count": 175,
     "metadata": {},
     "output_type": "execute_result"
    }
   ],
   "source": [
    "mps[0]"
   ]
  },
  {
   "cell_type": "code",
   "execution_count": 176,
   "id": "d707bc4f",
   "metadata": {},
   "outputs": [
    {
     "data": {
      "text/plain": [
       "array([[[1.+0.j, 0.+0.j],\n",
       "        [0.+0.j, 1.+0.j]]])"
      ]
     },
     "execution_count": 176,
     "metadata": {},
     "output_type": "execute_result"
    }
   ],
   "source": [
    "mps[1]"
   ]
  },
  {
   "cell_type": "code",
   "execution_count": 196,
   "id": "4c20dc54",
   "metadata": {},
   "outputs": [],
   "source": [
    "nmps= convert_to_mps(all_zeros)"
   ]
  },
  {
   "cell_type": "code",
   "execution_count": 198,
   "id": "2dafbcbf",
   "metadata": {},
   "outputs": [
    {
     "name": "stdout",
     "output_type": "stream",
     "text": [
      "(2, 2)\n",
      "(4, 1)\n",
      "(4, 1)\n",
      "(4, 1)\n",
      "(4, 1)\n",
      "(64, 1)\n"
     ]
    }
   ],
   "source": [
    "for site in nmps:\n",
    "    print(site.shape)"
   ]
  },
  {
   "cell_type": "code",
   "execution_count": 51,
   "id": "dd3ff566",
   "metadata": {},
   "outputs": [],
   "source": [
    "bell_state = np.array([1.0 / np.sqrt(2), 0.0, 0.0, 1.0 / np.sqrt(2)], dtype=float)\n",
    "bell_state_mps = [None, None]\n",
    "bell_state = bell_state.reshape(2, 2)\n",
    "q, r = np.linalg.qr(bell_state)\n",
    "bell_state_mps[0] = q.reshape(1, 2, 2)\n",
    "bell_state_mps[1] = q.reshape(2, 2, 1)"
   ]
  },
  {
   "cell_type": "code",
   "execution_count": 52,
   "id": "33d95004",
   "metadata": {},
   "outputs": [
    {
     "data": {
      "text/plain": [
       "array([[[1., 0.],\n",
       "        [0., 1.]]])"
      ]
     },
     "execution_count": 52,
     "metadata": {},
     "output_type": "execute_result"
    }
   ],
   "source": [
    "bell_state_mps[0]"
   ]
  },
  {
   "cell_type": "code",
   "execution_count": 53,
   "id": "2dadaeb6",
   "metadata": {},
   "outputs": [
    {
     "data": {
      "text/plain": [
       "array([[[1.],\n",
       "        [0.]],\n",
       "\n",
       "       [[0.],\n",
       "        [1.]]])"
      ]
     },
     "execution_count": 53,
     "metadata": {},
     "output_type": "execute_result"
    }
   ],
   "source": [
    "bell_state_mps[1]"
   ]
  },
  {
   "cell_type": "code",
   "execution_count": 56,
   "id": "df55f720",
   "metadata": {},
   "outputs": [
    {
     "data": {
      "text/plain": [
       "[array([[[1., 0.],\n",
       "         [0., 1.]]]),\n",
       " array([[[0.5],\n",
       "         [0. ]],\n",
       " \n",
       "        [[0. ],\n",
       "         [0.5]]])]"
      ]
     },
     "execution_count": 56,
     "metadata": {},
     "output_type": "execute_result"
    }
   ],
   "source": [
    "from src.mps.mps import get_truncated_mps\n",
    "get_truncated_mps(bell_state_mps, 4)"
   ]
  },
  {
   "cell_type": "code",
   "execution_count": 13,
   "id": "f80fc60e",
   "metadata": {},
   "outputs": [
    {
     "ename": "RuntimeWarning",
     "evalue": "Decomposition of current tensors leading to inconsistent decomposition with original tensors. Distance is 1.4142135623730951",
     "output_type": "error",
     "traceback": [
      "\u001b[0;31m---------------------------------------------------------------------------\u001b[0m",
      "\u001b[0;31mRuntimeWarning\u001b[0m                            Traceback (most recent call last)",
      "\u001b[1;32m/Users/williamsimon/Desktop/Research/DMRG/Analytical-MPS-Quantum-Circuit-Encoding/Untitled.ipynb Cell 33\u001b[0m in \u001b[0;36m<cell line: 2>\u001b[0;34m()\u001b[0m\n\u001b[1;32m      <a href='vscode-notebook-cell:/Users/williamsimon/Desktop/Research/DMRG/Analytical-MPS-Quantum-Circuit-Encoding/Untitled.ipynb#X46sZmlsZQ%3D%3D?line=0'>1</a>\u001b[0m \u001b[39mfrom\u001b[39;00m \u001b[39msrc\u001b[39;00m\u001b[39m.\u001b[39;00m\u001b[39mmps\u001b[39;00m\u001b[39m.\u001b[39;00m\u001b[39mmps\u001b[39;00m \u001b[39mimport\u001b[39;00m get_truncated_mps\n\u001b[0;32m----> <a href='vscode-notebook-cell:/Users/williamsimon/Desktop/Research/DMRG/Analytical-MPS-Quantum-Circuit-Encoding/Untitled.ipynb#X46sZmlsZQ%3D%3D?line=1'>2</a>\u001b[0m get_truncated_mps(mps, \u001b[39m1\u001b[39;49m)\n",
      "File \u001b[0;32m~/Desktop/Research/DMRG/Analytical-MPS-Quantum-Circuit-Encoding/src/mps/mps.py:174\u001b[0m, in \u001b[0;36mget_truncated_mps\u001b[0;34m(mps, max_bond_dimension)\u001b[0m\n\u001b[1;32m    168\u001b[0m \u001b[39mfor\u001b[39;00m site1_index \u001b[39min\u001b[39;00m \u001b[39mrange\u001b[39m(\u001b[39m0\u001b[39m, number_of_sites \u001b[39m-\u001b[39m \u001b[39m1\u001b[39m):\n\u001b[1;32m    169\u001b[0m     site2_index \u001b[39m=\u001b[39m site1_index \u001b[39m+\u001b[39m \u001b[39m1\u001b[39m\n\u001b[1;32m    171\u001b[0m     (\n\u001b[1;32m    172\u001b[0m         mps[site1_index],\n\u001b[1;32m    173\u001b[0m         mps[site2_index],\n\u001b[0;32m--> 174\u001b[0m     ) \u001b[39m=\u001b[39m _contract_and_decompose_and_truncate_sites_into_left_canonical_form(\n\u001b[1;32m    175\u001b[0m         mps[site1_index],\n\u001b[1;32m    176\u001b[0m         mps[site2_index],\n\u001b[1;32m    177\u001b[0m         max_bond_dimension,\n\u001b[1;32m    178\u001b[0m         check_decomposition\u001b[39m=\u001b[39;49m\u001b[39mTrue\u001b[39;49;00m,\n\u001b[1;32m    179\u001b[0m     )\n\u001b[1;32m    181\u001b[0m \u001b[39m# TODO: is this normalized?\u001b[39;00m\n\u001b[1;32m    182\u001b[0m \u001b[39mreturn\u001b[39;00m mps\n",
      "File \u001b[0;32m~/Desktop/Research/DMRG/Analytical-MPS-Quantum-Circuit-Encoding/src/mps/mps.py:144\u001b[0m, in \u001b[0;36m_contract_and_decompose_and_truncate_sites_into_left_canonical_form\u001b[0;34m(left_site, right_site, max_bond_dimension, check_decomposition)\u001b[0m\n\u001b[1;32m    141\u001b[0m updated_right_site \u001b[39m=\u001b[39m np\u001b[39m.\u001b[39mdiag(s) \u001b[39m@\u001b[39m v\n\u001b[1;32m    143\u001b[0m \u001b[39mif\u001b[39;00m check_decomposition:\n\u001b[0;32m--> 144\u001b[0m     _check_decomposition(\n\u001b[1;32m    145\u001b[0m         updated_left_site,\n\u001b[1;32m    146\u001b[0m         updated_right_site,\n\u001b[1;32m    147\u001b[0m         contracted_site,\n\u001b[1;32m    148\u001b[0m     )\n\u001b[1;32m    150\u001b[0m left_site \u001b[39m=\u001b[39m updated_left_site\u001b[39m.\u001b[39mreshape(\n\u001b[1;32m    151\u001b[0m     left_bond_dimension, \u001b[39m2\u001b[39m, new_shared_bond_dimension\n\u001b[1;32m    152\u001b[0m )\n\u001b[1;32m    153\u001b[0m right_site \u001b[39m=\u001b[39m updated_right_site\u001b[39m.\u001b[39mreshape(\n\u001b[1;32m    154\u001b[0m     new_shared_bond_dimension, \u001b[39m2\u001b[39m, right_bond_dimension\n\u001b[1;32m    155\u001b[0m )\n",
      "File \u001b[0;32m~/Desktop/Research/DMRG/Analytical-MPS-Quantum-Circuit-Encoding/src/mps/mps.py:102\u001b[0m, in \u001b[0;36m_check_decomposition\u001b[0;34m(left_site, right_site, original_contracted_two_site_tensor)\u001b[0m\n\u001b[1;32m     97\u001b[0m distance \u001b[39m=\u001b[39m np\u001b[39m.\u001b[39mlinalg\u001b[39m.\u001b[39mnorm(\n\u001b[1;32m     98\u001b[0m     updated_contracted_two_site_tensor \u001b[39m-\u001b[39m original_contracted_two_site_tensor, \u001b[39mord\u001b[39m\u001b[39m=\u001b[39m\u001b[39m2\u001b[39m\n\u001b[1;32m     99\u001b[0m )\n\u001b[1;32m    101\u001b[0m \u001b[39mif\u001b[39;00m distance \u001b[39m>\u001b[39m \u001b[39m1e-12\u001b[39m:\n\u001b[0;32m--> 102\u001b[0m     \u001b[39mraise\u001b[39;00m \u001b[39mRuntimeWarning\u001b[39;00m(\n\u001b[1;32m    103\u001b[0m         \u001b[39m\"\u001b[39m\u001b[39mDecomposition of current tensors leading to inconsistent decomposition with original tensors. Distance is \u001b[39m\u001b[39m{}\u001b[39;00m\u001b[39m\"\u001b[39m\u001b[39m.\u001b[39mformat(\n\u001b[1;32m    104\u001b[0m             distance\n\u001b[1;32m    105\u001b[0m         )\n\u001b[1;32m    106\u001b[0m     )\n",
      "\u001b[0;31mRuntimeWarning\u001b[0m: Decomposition of current tensors leading to inconsistent decomposition with original tensors. Distance is 1.4142135623730951"
     ]
    }
   ],
   "source": [
    "from src.mps.mps import get_truncated_mps\n",
    "get_truncated_mps(mps, 1)"
   ]
  },
  {
   "cell_type": "code",
   "execution_count": 1,
   "id": "b1527352",
   "metadata": {},
   "outputs": [
    {
     "ename": "NameError",
     "evalue": "name 'np' is not defined",
     "output_type": "error",
     "traceback": [
      "\u001b[0;31m---------------------------------------------------------------------------\u001b[0m",
      "\u001b[0;31mNameError\u001b[0m                                 Traceback (most recent call last)",
      "\u001b[1;32m/Users/williamsimon/Desktop/Research/DMRG/Analytical-MPS-Quantum-Circuit-Encoding/Untitled.ipynb Cell 34\u001b[0m in \u001b[0;36m<cell line: 1>\u001b[0;34m()\u001b[0m\n\u001b[0;32m----> <a href='vscode-notebook-cell:/Users/williamsimon/Desktop/Research/DMRG/Analytical-MPS-Quantum-Circuit-Encoding/Untitled.ipynb#X45sZmlsZQ%3D%3D?line=0'>1</a>\u001b[0m bell_state \u001b[39m=\u001b[39m np\u001b[39m.\u001b[39mzeros(\u001b[39m2\u001b[39m\u001b[39m*\u001b[39m\u001b[39m*\u001b[39m\u001b[39m6\u001b[39m)\n\u001b[1;32m      <a href='vscode-notebook-cell:/Users/williamsimon/Desktop/Research/DMRG/Analytical-MPS-Quantum-Circuit-Encoding/Untitled.ipynb#X45sZmlsZQ%3D%3D?line=1'>2</a>\u001b[0m bell_state[\u001b[39m0\u001b[39m] \u001b[39m=\u001b[39m (\u001b[39m1\u001b[39m\u001b[39m/\u001b[39mnp\u001b[39m.\u001b[39msqrt(\u001b[39m2\u001b[39m))\n\u001b[1;32m      <a href='vscode-notebook-cell:/Users/williamsimon/Desktop/Research/DMRG/Analytical-MPS-Quantum-Circuit-Encoding/Untitled.ipynb#X45sZmlsZQ%3D%3D?line=2'>3</a>\u001b[0m bell_state[\u001b[39m-\u001b[39m\u001b[39m1\u001b[39m] \u001b[39m=\u001b[39m (\u001b[39m1\u001b[39m\u001b[39m/\u001b[39mnp\u001b[39m.\u001b[39msqrt(\u001b[39m2\u001b[39m))\n",
      "\u001b[0;31mNameError\u001b[0m: name 'np' is not defined"
     ]
    }
   ],
   "source": [
    "import numpy as np\n",
    "bell_state = np.zeros(2**6)\n",
    "bell_state[0] = (1/np.sqrt(2))\n",
    "bell_state[-1] = (1/np.sqrt(2))\n",
    "\n",
    "bell_state_mps = get_mps(bell_state)\n",
    "truncated_bell_state_mps_wf = get_wavefunction(get_truncated_mps(bell_state_mps, 2))\n",
    "\n",
    "np.dot(bell_state.T.conj(), truncated_bell_state_mps_wf)"
   ]
  },
  {
   "cell_type": "code",
   "execution_count": null,
   "id": "87f4f1de",
   "metadata": {},
   "outputs": [],
   "source": []
  }
 ],
 "metadata": {
  "kernelspec": {
   "display_name": "dmrgpy",
   "language": "python",
   "name": "python3"
  },
  "language_info": {
   "codemirror_mode": {
    "name": "ipython",
    "version": 3
   },
   "file_extension": ".py",
   "mimetype": "text/x-python",
   "name": "python",
   "nbconvert_exporter": "python",
   "pygments_lexer": "ipython3",
   "version": "3.10.6"
  }
 },
 "nbformat": 4,
 "nbformat_minor": 5
}
